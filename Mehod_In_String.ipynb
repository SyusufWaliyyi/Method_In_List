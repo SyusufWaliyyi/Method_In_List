{
 "cells": [
  {
   "cell_type": "markdown",
   "metadata": {},
   "source": [
    "## Working with strings\n",
    "the following methods are implemented for modifying a strings "
   ]
  },
  {
   "cell_type": "code",
   "execution_count": 1,
   "metadata": {},
   "outputs": [
    {
     "name": "stdout",
     "output_type": "stream",
     "text": [
      "Child name is  safiyya shamsuddeen\n"
     ]
    }
   ],
   "source": [
    "Child = \"safiyya shamsuddeen\"\n",
    "print('Child name is ',Child)"
   ]
  },
  {
   "cell_type": "markdown",
   "metadata": {},
   "source": [
    "### Capitalization of first letters"
   ]
  },
  {
   "cell_type": "code",
   "execution_count": 2,
   "metadata": {},
   "outputs": [
    {
     "name": "stdout",
     "output_type": "stream",
     "text": [
      "Capitalized first letter:  Safiyya Shamsuddeen\n"
     ]
    }
   ],
   "source": [
    "print('Capitalized first letter: ',Child.title())"
   ]
  },
  {
   "cell_type": "markdown",
   "metadata": {},
   "source": [
    "### Capitalization of each letter"
   ]
  },
  {
   "cell_type": "code",
   "execution_count": 3,
   "metadata": {},
   "outputs": [
    {
     "name": "stdout",
     "output_type": "stream",
     "text": [
      "Child name is  SAFIYYA SHAMSUDDEEN\n"
     ]
    }
   ],
   "source": [
    "print('Child name is ',Child.upper())"
   ]
  },
  {
   "cell_type": "markdown",
   "metadata": {},
   "source": [
    "### Lowercase each letter"
   ]
  },
  {
   "cell_type": "code",
   "execution_count": 4,
   "metadata": {},
   "outputs": [
    {
     "name": "stdout",
     "output_type": "stream",
     "text": [
      "Child name is  safiyya shamsuddeen\n"
     ]
    }
   ],
   "source": [
    "print('Child name is ',Child.casefold())"
   ]
  },
  {
   "cell_type": "markdown",
   "metadata": {},
   "source": [
    "### Sentence wise capitalization"
   ]
  },
  {
   "cell_type": "code",
   "execution_count": 5,
   "metadata": {},
   "outputs": [
    {
     "name": "stdout",
     "output_type": "stream",
     "text": [
      "Child name is  Safiyya shamsuddeen\n"
     ]
    }
   ],
   "source": [
    "print('Child name is ',Child.capitalize())"
   ]
  },
  {
   "cell_type": "markdown",
   "metadata": {},
   "source": [
    "### Length of the number of characters"
   ]
  },
  {
   "cell_type": "code",
   "execution_count": 6,
   "metadata": {},
   "outputs": [
    {
     "name": "stdout",
     "output_type": "stream",
     "text": [
      "Child characters =  19\n"
     ]
    }
   ],
   "source": [
    "print('Child characters = ',len(Child))"
   ]
  },
  {
   "cell_type": "markdown",
   "metadata": {},
   "source": [
    "### Counting the number of times safiyya affairs"
   ]
  },
  {
   "cell_type": "code",
   "execution_count": 7,
   "metadata": {},
   "outputs": [
    {
     "name": "stdout",
     "output_type": "stream",
     "text": [
      "Safiyya afairs 1 times\n"
     ]
    }
   ],
   "source": [
    "print(f'Safiyya afairs {Child.count('safiyya')} times')"
   ]
  },
  {
   "cell_type": "markdown",
   "metadata": {},
   "source": [
    "### Number of times a letter appears"
   ]
  },
  {
   "cell_type": "code",
   "execution_count": 8,
   "metadata": {},
   "outputs": [
    {
     "name": "stdout",
     "output_type": "stream",
     "text": [
      "a affairs 3 times\n"
     ]
    }
   ],
   "source": [
    "print(f'a affairs {Child.count('a')} times')"
   ]
  },
  {
   "cell_type": "markdown",
   "metadata": {},
   "source": [
    "### The type of the variable"
   ]
  },
  {
   "cell_type": "code",
   "execution_count": 9,
   "metadata": {},
   "outputs": [
    {
     "name": "stdout",
     "output_type": "stream",
     "text": [
      "Variavle is of type:  <class 'str'>\n"
     ]
    }
   ],
   "source": [
    "print('Variavle is of type: ',type(Child))"
   ]
  },
  {
   "cell_type": "markdown",
   "metadata": {},
   "source": [
    "## Others are boolean methods applied to the string"
   ]
  },
  {
   "cell_type": "code",
   "execution_count": null,
   "metadata": {},
   "outputs": [
    {
     "name": "stdout",
     "output_type": "stream",
     "text": [
      "True\n",
      "False\n",
      "False\n",
      "True\n",
      "False\n",
      "False\n",
      "False\n",
      "False\n",
      "True\n",
      "False\n",
      "False\n",
      "False\n"
     ]
    }
   ],
   "source": [
    "print(Child.islower()) # Return True since its lower\n",
    "\n",
    "print(Child.isupper())  # Return False since its not upper\n",
    "\n",
    "print(Child.isnumeric()) # Return False since its not numeric\n",
    "\n",
    "print(Child.isprintable()) # Return True since its printable\n",
    "\n",
    "print(Child.isspace())  # Return False since its not space\n",
    "\n",
    "print(Child.istitle())  # Return False since its not\n",
    "\n",
    "print(Child.isalnum())  # Return False since its not all numbers\n",
    "\n",
    "print(Child.isalpha()) # Return False since its not all alpha\n",
    "\n",
    "print(Child.isascii())  # Return True since its all characters\n",
    "\n",
    "print(Child.isdecimal())  # Return False since its not decimal\n",
    "\n",
    "print(Child.isdigit())  # Return False since its not all digits\n",
    "\n",
    "print(Child.isidentifier()) # Return False because its not an identifier\n"
   ]
  }
 ],
 "metadata": {
  "kernelspec": {
   "display_name": "Python 3",
   "language": "python",
   "name": "python3"
  },
  "language_info": {
   "codemirror_mode": {
    "name": "ipython",
    "version": 3
   },
   "file_extension": ".py",
   "mimetype": "text/x-python",
   "name": "python",
   "nbconvert_exporter": "python",
   "pygments_lexer": "ipython3",
   "version": "3.13.0"
  }
 },
 "nbformat": 4,
 "nbformat_minor": 2
}
